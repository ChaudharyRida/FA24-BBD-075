{
 "cells": [
  {
   "cell_type": "markdown",
   "id": "47671bbf-46ff-40ad-99c9-dd68a35ac441",
   "metadata": {},
   "source": [
    "# Solved Exercises on Dictionaries in Python"
   ]
  },
  {
   "cell_type": "code",
   "execution_count": 1,
   "id": "ddc162d8-2b10-4a12-92c0-ad18e0ec2b72",
   "metadata": {},
   "outputs": [
    {
     "name": "stdout",
     "output_type": "stream",
     "text": [
      "{'name': 'Rida', 'age': 17, 'city': 'Lahore', 'hobbies': 'reading'}\n"
     ]
    }
   ],
   "source": [
    "#Create a dictionary to store information about a person (name, age, city, hobbies).\n",
    "person = {\n",
    "    \"name\":\"Rida\",\n",
    "    \"age\":17,\n",
    "    \"city\":\"Lahore\",\n",
    "    \"hobbies\":\"reading\"\n",
    "}\n",
    "print(person)"
   ]
  },
  {
   "cell_type": "code",
   "execution_count": 3,
   "id": "e9e43b8d-0e0a-4c5a-8a08-876cb92da0e8",
   "metadata": {},
   "outputs": [
    {
     "name": "stdin",
     "output_type": "stream",
     "text": [
      "Enter a text:  hello\n"
     ]
    },
    {
     "name": "stdout",
     "output_type": "stream",
     "text": [
      "h: 1\n",
      "e: 1\n",
      "l: 2\n",
      "o: 1\n"
     ]
    }
   ],
   "source": [
    "# Write a program to count the frequency of words in a given text.\n",
    "def word_frequency(text):\n",
    "    words = text.lower()\n",
    "    word_count = {}    \n",
    "    for word in words:\n",
    "        word_count[word] = word_count.get(word, 0) + 1\n",
    "    for word, count in word_count.items():\n",
    "        print(f\"{word}: {count}\")\n",
    "text = input(\"Enter a text: \")\n",
    "word_frequency(text)\n"
   ]
  },
  {
   "cell_type": "code",
   "execution_count": 5,
   "id": "7619909b-83fd-4824-b55d-6db0304556c1",
   "metadata": {},
   "outputs": [
    {
     "name": "stdout",
     "output_type": "stream",
     "text": [
      "Store: S\n",
      "Quit: Q\n"
     ]
    },
    {
     "name": "stdin",
     "output_type": "stream",
     "text": [
      "Enter Product Name:  bikes\n",
      "Enter number of units:  700\n",
      "Enter S/Q: s\n",
      "Enter Product Name:  cars\n",
      "Enter number of units:  570\n",
      "Enter S/Q: q\n"
     ]
    },
    {
     "name": "stdout",
     "output_type": "stream",
     "text": [
      "{'bikes': 700, 'cars': 570}\n"
     ]
    }
   ],
   "source": [
    "# Implement a simple inventory system using dictionaries.\n",
    "Inventory = {}\n",
    "print(\"Store: S\\nQuit: Q\")\n",
    "while True :\n",
    "    product = input(\"Enter Product Name: \")\n",
    "    units = int(input(\"Enter number of units: \"))\n",
    "    option = input(\"Enter S/Q:\").lower()\n",
    "    Inventory[product] = units\n",
    "    if option == \"q\" :\n",
    "        break\n",
    "print(Inventory)"
   ]
  },
  {
   "cell_type": "code",
   "execution_count": 9,
   "id": "c260da9c-9260-490f-9544-487a994a0c62",
   "metadata": {},
   "outputs": [
    {
     "name": "stdout",
     "output_type": "stream",
     "text": [
      "Bikes is one of most popular\n"
     ]
    }
   ],
   "source": [
    "# Analyze a dataset of customer orders to find the most popular product category.\n",
    "customer_orders = {\n",
    "    \"cars\" : 1000,\n",
    "    \"trains\" : 200,\n",
    "    \"planes\" : 900,\n",
    "    \"bikes\" : 2100,\n",
    "    \"helicopter\" : 400,\n",
    "}\n",
    "Max = max(customer_orders.values())\n",
    "for category, units in customer_orders.items():\n",
    "    if units == Max:\n",
    "        print(f\"{category.title()} is one of most popular\")"
   ]
  },
  {
   "cell_type": "code",
   "execution_count": 13,
   "id": "1dc7e1dd-59b3-4fc5-b025-f3df300fa7b0",
   "metadata": {},
   "outputs": [
    {
     "name": "stdout",
     "output_type": "stream",
     "text": [
      "The average grade is: 86.75\n"
     ]
    }
   ],
   "source": [
    "# Create a dictionary to store student grades and calculate the average grade.\n",
    "grades = {\n",
    "    \"Alice\": 86,\n",
    "    \"Bob\": 97,\n",
    "    \"Charlie\": 79,\n",
    "    \"David\": 85,\n",
    "}\n",
    "total_grades = sum(grades.values())\n",
    "num_students = len(grades)\n",
    "average_grade = total_grades / num_students\n",
    "print(f\"The average grade is: {average_grade:.2f}\")\n"
   ]
  },
  {
   "cell_type": "code",
   "execution_count": 31,
   "id": "9c3bcaac-af2d-47e1-bbaa-deab22e39547",
   "metadata": {},
   "outputs": [
    {
     "name": "stdout",
     "output_type": "stream",
     "text": [
      "Continue: C\n",
      "Quit: Q\n"
     ]
    },
    {
     "name": "stdin",
     "output_type": "stream",
     "text": [
      "Enter name: cars\n",
      "Enter Units: 100\n",
      "Enter Price Per Unit: 12\n",
      "Enter name: bikes\n",
      "Enter Units: 7\n",
      "Enter Price Per Unit: 1200\n",
      "Enter name: q\n"
     ]
    },
    {
     "name": "stdout",
     "output_type": "stream",
     "text": [
      "Update Product Quantities\n",
      "Skip: S\n"
     ]
    },
    {
     "name": "stdin",
     "output_type": "stream",
     "text": [
      "Bikes:  s\n",
      "Cars:  s\n",
      "Tanks:  s\n"
     ]
    },
    {
     "name": "stdout",
     "output_type": "stream",
     "text": [
      "Valuation: 16800\n",
      "Bikes has low stock\n",
      "Tanks has low stock\n"
     ]
    }
   ],
   "source": [
    "#  Inventory ManagementInventory = {}\n",
    "low_stock = 10\n",
    "print(\"Continue: C\\nQuit: Q\")\n",
    "information = [\"units\", \"price per unit\", \"price\"]\n",
    "\n",
    "while True :\n",
    "    name = input(\"Enter name:\").lower()\n",
    "    if name == \"q\" :\n",
    "      break\n",
    "    temp_dict = {}\n",
    "    for info in information :\n",
    "        if not info == \"price\" :\n",
    "            temp_var = int(input(f\"Enter {info.title()}:\"))\n",
    "            temp_dict[f\"{info}\"] = temp_var\n",
    "        else :\n",
    "            temp_dict[\"price\"] = temp_dict[\"units\"] * temp_dict[\"price per unit\"]\n",
    "        Inventory[name] = temp_dict\n",
    "\n",
    "print(\"Update Product Quantities\\nSkip: S\")\n",
    "for category in Inventory.keys() :\n",
    "    if not input(f\"{category.title()}: \").lower() == \"s\" :\n",
    "        Inventory[category][\"units\"] = input(f\"Enter {category} units: \")\n",
    "\n",
    "value = 0\n",
    "for info in Inventory.values() :\n",
    "    value += info[\"price\"]\n",
    "print(f\"Valuation: {value}\")\n",
    "\n",
    "for name, info in Inventory.items() :\n",
    "    if int(info[\"units\"]) <= low_stock :\n",
    "        print(f\"{name.title()} has low stock\")\n"
   ]
  },
  {
   "cell_type": "code",
   "execution_count": 35,
   "id": "0a4cbf94-de05-4696-88c7-a64039d049ed",
   "metadata": {},
   "outputs": [
    {
     "name": "stdout",
     "output_type": "stream",
     "text": [
      "Continue: C\n",
      "Quit: Q\n"
     ]
    },
    {
     "name": "stdin",
     "output_type": "stream",
     "text": [
      "Enter Student Name:  Rida\n",
      "Enter Programming:  20\n",
      "Enter Maths:  35\n",
      "Enter Ict:  20\n",
      "Enter Accounting:  23\n",
      "Enter Islamic Studies:  24\n",
      "Enter Management:  23\n",
      "Enter Student Name:  Alice\n",
      "Enter Programming:  23\n",
      "Enter Maths:  33\n",
      "Enter Ict:  24\n",
      "Enter Accounting:  23\n",
      "Enter Islamic Studies:  20\n",
      "Enter Management:  21\n",
      "Enter Student Name:  q\n"
     ]
    },
    {
     "name": "stdout",
     "output_type": "stream",
     "text": [
      "Average\n",
      "Rida: 24.166666666666668\n",
      "Alice: 24.0\n",
      "Programming:\n",
      "\tHighest: 23\n",
      "\tLowest: 20\n",
      "Maths:\n",
      "\tHighest: 35\n",
      "\tLowest: 33\n",
      "Ict:\n",
      "\tHighest: 24\n",
      "\tLowest: 20\n",
      "Accounting:\n",
      "\tHighest: 23\n",
      "\tLowest: 23\n",
      "Islamic Studies:\n",
      "\tHighest: 24\n",
      "\tLowest: 20\n",
      "Management:\n",
      "\tHighest: 23\n",
      "\tLowest: 21\n",
      "Rida: 24.166666666666668\n",
      "Alice: 24.0\n"
     ]
    }
   ],
   "source": [
    "# Student Gradebook\n",
    "student_grades = {}\n",
    "average_grades = {}\n",
    "subjects_grades = {}\n",
    "subjects = (\"Programming\", \"Maths\", \"ICT\", \"Accounting\", \"Islamic Studies\", \"Management\")\n",
    "print(\"Continue: C\\nQuit: Q\")\n",
    "for i in subjects :\n",
    "    subjects_grades[i] = []\n",
    "while True :\n",
    "    name = input(\"Enter Student Name: \").lower()\n",
    "    if name == \"q\" :\n",
    "        break\n",
    "    temp = {}\n",
    "    for subject in subjects :\n",
    "        temp_var = int(input(f\"Enter {subject.title()}: \"))\n",
    "        temp[subject] = temp_var\n",
    "        subjects_grades[subject].append(temp_var)\n",
    "    student_grades[name] = temp\n",
    "    average_grades[name] = sum(student_grades[name].values()) / (len(student_grades[name]))\n",
    "\n",
    "print(\"Average\")\n",
    "for student, average in average_grades.items() :\n",
    "    print(f\"{student.title()}: {average}\")\n",
    "\n",
    "for subject, grades in subjects_grades.items() :\n",
    "    print(f\"{subject.title()}:\\n\\tHighest: {max(grades)}\\n\\tLowest: {min(grades)}\")\n",
    "for avr in sorted(average_grades.values(), reverse= True) :\n",
    "    for name in average_grades :\n",
    "        if average_grades[name] == avr :\n",
    "          print(f\"{name.title()}: {avr}\")\n"
   ]
  },
  {
   "cell_type": "code",
   "execution_count": 45,
   "id": "eeaa08bc-e284-4fbb-b6de-2ddd78eb7647",
   "metadata": {},
   "outputs": [
    {
     "name": "stdout",
     "output_type": "stream",
     "text": [
      "Laptop\n",
      "\tPrice: 999.99\n",
      "\tQuantity: 10\n",
      "Pen\n",
      "\tPrice: 199.99\n",
      "\tQuantity: 50\n",
      "Smartphone\n",
      "\tPrice: 699.99\n",
      "\tQuantity: 30\n",
      "Keyboard\n",
      "\tPrice: 49.99\n",
      "\tQuantity: 100\n",
      "Chair\n",
      "\tPrice: 89.99\n",
      "\tQuantity: 25\n",
      "Desk\n",
      "\tPrice: 149.99\n",
      "\tQuantity: 15\n",
      "Table Lamp\n",
      "\tPrice: 29.99\n",
      "\tQuantity: 60\n",
      "Coffee Mug\n",
      "\tPrice: 12.99\n",
      "\tQuantity: 200\n",
      "Monitor\n",
      "\tPrice: 249.99\n",
      "\tQuantity: 20\n",
      "Printer\n",
      "\tPrice: 129.99\n",
      "\tQuantity: 10\n",
      "What you want to buy\n",
      "Add: A\n",
      "Remove: R\n",
      "Quit : Q\n"
     ]
    },
    {
     "name": "stdin",
     "output_type": "stream",
     "text": [
      "Enter Product Name:  pen\n",
      "Enter Option:  a\n",
      "Enter units :  2\n",
      "Enter Product Name:  laptop\n",
      "Enter Option:  a\n",
      "Enter units :  1\n",
      "Enter Product Name:  q\n",
      "Enter Option:  q\n"
     ]
    },
    {
     "name": "stdout",
     "output_type": "stream",
     "text": [
      "Total Price: 1399.97\n",
      "Discount: 69.9985\n",
      "Tax: 41.9991\n",
      "Final Price: 1371.9706\n"
     ]
    }
   ],
   "source": [
    "# Simple E-commerce Store\n",
    "products = {\n",
    "    \"laptop\": {\"price\": 999.99, \"quantity\": 10},\n",
    "    \"pen\": {\"price\": 199.99, \"quantity\": 50},\n",
    "    \"smartphone\": {\"price\": 699.99, \"quantity\": 30},\n",
    "    \"keyboard\": {\"price\": 49.99, \"quantity\": 100},\n",
    "    \"chair\": {\"price\": 89.99, \"quantity\": 25},\n",
    "    \"desk\": {\"price\": 149.99, \"quantity\": 15},\n",
    "    \"table lamp\": {\"price\": 29.99, \"quantity\": 60},\n",
    "    \"coffee mug\": {\"price\": 12.99, \"quantity\": 200},\n",
    "    \"monitor\": {\"price\": 249.99, \"quantity\": 20},\n",
    "    \"printer\": {\"price\": 129.99, \"quantity\": 10},\n",
    "}\n",
    "cart = {}\n",
    "total_price = 0\n",
    "discount = 5\n",
    "tax = 3\n",
    "\n",
    "for name, details in products.items() :\n",
    "    print(f\"{name.title()}\\n\\tPrice: {details['price']}\\n\\tQuantity: {details['quantity']}\")\n",
    "\n",
    "print(\"What you want to buy\\nAdd: A\\nRemove: R\\nQuit : Q\")\n",
    "while True :\n",
    "    name = input(\"Enter Product Name: \").lower()\n",
    "    option = input(\"Enter Option: \").lower()\n",
    "    if option == \"r\" :\n",
    "        del cart[name]\n",
    "    elif option == \"q\" :\n",
    "        break\n",
    "    else :\n",
    "        units = int(input(\"Enter units : \"))\n",
    "        cart[name] = units\n",
    "\n",
    "for name, units in cart.items() :\n",
    "    total_price += products[name][\"price\"] * units\n",
    "print(f\"Total Price: {total_price}\")\n",
    "print(f\"Discount: {total_price * (discount / 100)}\\nTax: {total_price * (tax / 100)}\\nFinal Price: {(total_price - total_price * (discount / 100)) + (total_price * (tax / 100))}\")"
   ]
  },
  {
   "cell_type": "code",
   "execution_count": null,
   "id": "aca19b87-f36d-44b5-a6d3-c09ccda76223",
   "metadata": {},
   "outputs": [],
   "source": []
  }
 ],
 "metadata": {
  "kernelspec": {
   "display_name": "Python 3 (ipykernel)",
   "language": "python",
   "name": "python3"
  },
  "language_info": {
   "codemirror_mode": {
    "name": "ipython",
    "version": 3
   },
   "file_extension": ".py",
   "mimetype": "text/x-python",
   "name": "python",
   "nbconvert_exporter": "python",
   "pygments_lexer": "ipython3",
   "version": "3.12.4"
  }
 },
 "nbformat": 4,
 "nbformat_minor": 5
}
